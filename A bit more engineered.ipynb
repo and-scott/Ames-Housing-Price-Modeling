{
 "cells": [
  {
   "cell_type": "code",
   "execution_count": 1,
   "metadata": {},
   "outputs": [],
   "source": [
    "import pandas as pd\n",
    "import numpy as np\n",
    "import matplotlib.pyplot as plt\n",
    "import seaborn as sns\n",
    "from sklearn.linear_model import LinearRegression\n",
    "from sklearn.metrics import mean_squared_error\n",
    "from sklearn.model_selection import train_test_split, cross_val_score"
   ]
  },
  {
   "cell_type": "code",
   "execution_count": 2,
   "metadata": {},
   "outputs": [],
   "source": [
    "df = pd.read_csv('./datasets/train.csv')"
   ]
  },
  {
   "cell_type": "code",
   "execution_count": 3,
   "metadata": {
    "scrolled": true
   },
   "outputs": [
    {
     "name": "stdout",
     "output_type": "stream",
     "text": [
      "<class 'pandas.core.frame.DataFrame'>\n",
      "RangeIndex: 2051 entries, 0 to 2050\n",
      "Data columns (total 81 columns):\n",
      " #   Column           Non-Null Count  Dtype  \n",
      "---  ------           --------------  -----  \n",
      " 0   Id               2051 non-null   int64  \n",
      " 1   PID              2051 non-null   int64  \n",
      " 2   MS SubClass      2051 non-null   int64  \n",
      " 3   MS Zoning        2051 non-null   object \n",
      " 4   Lot Frontage     1721 non-null   float64\n",
      " 5   Lot Area         2051 non-null   int64  \n",
      " 6   Street           2051 non-null   object \n",
      " 7   Alley            140 non-null    object \n",
      " 8   Lot Shape        2051 non-null   object \n",
      " 9   Land Contour     2051 non-null   object \n",
      " 10  Utilities        2051 non-null   object \n",
      " 11  Lot Config       2051 non-null   object \n",
      " 12  Land Slope       2051 non-null   object \n",
      " 13  Neighborhood     2051 non-null   object \n",
      " 14  Condition 1      2051 non-null   object \n",
      " 15  Condition 2      2051 non-null   object \n",
      " 16  Bldg Type        2051 non-null   object \n",
      " 17  House Style      2051 non-null   object \n",
      " 18  Overall Qual     2051 non-null   int64  \n",
      " 19  Overall Cond     2051 non-null   int64  \n",
      " 20  Year Built       2051 non-null   int64  \n",
      " 21  Year Remod/Add   2051 non-null   int64  \n",
      " 22  Roof Style       2051 non-null   object \n",
      " 23  Roof Matl        2051 non-null   object \n",
      " 24  Exterior 1st     2051 non-null   object \n",
      " 25  Exterior 2nd     2051 non-null   object \n",
      " 26  Mas Vnr Type     2029 non-null   object \n",
      " 27  Mas Vnr Area     2029 non-null   float64\n",
      " 28  Exter Qual       2051 non-null   object \n",
      " 29  Exter Cond       2051 non-null   object \n",
      " 30  Foundation       2051 non-null   object \n",
      " 31  Bsmt Qual        1996 non-null   object \n",
      " 32  Bsmt Cond        1996 non-null   object \n",
      " 33  Bsmt Exposure    1993 non-null   object \n",
      " 34  BsmtFin Type 1   1996 non-null   object \n",
      " 35  BsmtFin SF 1     2050 non-null   float64\n",
      " 36  BsmtFin Type 2   1995 non-null   object \n",
      " 37  BsmtFin SF 2     2050 non-null   float64\n",
      " 38  Bsmt Unf SF      2050 non-null   float64\n",
      " 39  Total Bsmt SF    2050 non-null   float64\n",
      " 40  Heating          2051 non-null   object \n",
      " 41  Heating QC       2051 non-null   object \n",
      " 42  Central Air      2051 non-null   object \n",
      " 43  Electrical       2051 non-null   object \n",
      " 44  1st Flr SF       2051 non-null   int64  \n",
      " 45  2nd Flr SF       2051 non-null   int64  \n",
      " 46  Low Qual Fin SF  2051 non-null   int64  \n",
      " 47  Gr Liv Area      2051 non-null   int64  \n",
      " 48  Bsmt Full Bath   2049 non-null   float64\n",
      " 49  Bsmt Half Bath   2049 non-null   float64\n",
      " 50  Full Bath        2051 non-null   int64  \n",
      " 51  Half Bath        2051 non-null   int64  \n",
      " 52  Bedroom AbvGr    2051 non-null   int64  \n",
      " 53  Kitchen AbvGr    2051 non-null   int64  \n",
      " 54  Kitchen Qual     2051 non-null   object \n",
      " 55  TotRms AbvGrd    2051 non-null   int64  \n",
      " 56  Functional       2051 non-null   object \n",
      " 57  Fireplaces       2051 non-null   int64  \n",
      " 58  Fireplace Qu     1051 non-null   object \n",
      " 59  Garage Type      1938 non-null   object \n",
      " 60  Garage Yr Blt    1937 non-null   float64\n",
      " 61  Garage Finish    1937 non-null   object \n",
      " 62  Garage Cars      2050 non-null   float64\n",
      " 63  Garage Area      2050 non-null   float64\n",
      " 64  Garage Qual      1937 non-null   object \n",
      " 65  Garage Cond      1937 non-null   object \n",
      " 66  Paved Drive      2051 non-null   object \n",
      " 67  Wood Deck SF     2051 non-null   int64  \n",
      " 68  Open Porch SF    2051 non-null   int64  \n",
      " 69  Enclosed Porch   2051 non-null   int64  \n",
      " 70  3Ssn Porch       2051 non-null   int64  \n",
      " 71  Screen Porch     2051 non-null   int64  \n",
      " 72  Pool Area        2051 non-null   int64  \n",
      " 73  Pool QC          9 non-null      object \n",
      " 74  Fence            400 non-null    object \n",
      " 75  Misc Feature     65 non-null     object \n",
      " 76  Misc Val         2051 non-null   int64  \n",
      " 77  Mo Sold          2051 non-null   int64  \n",
      " 78  Yr Sold          2051 non-null   int64  \n",
      " 79  Sale Type        2051 non-null   object \n",
      " 80  SalePrice        2051 non-null   int64  \n",
      "dtypes: float64(11), int64(28), object(42)\n",
      "memory usage: 1.3+ MB\n"
     ]
    }
   ],
   "source": [
    "df.info()"
   ]
  },
  {
   "cell_type": "code",
   "execution_count": 4,
   "metadata": {
    "scrolled": true
   },
   "outputs": [
    {
     "data": {
      "text/plain": [
       "SalePrice          1.000000\n",
       "Overall Qual       0.800207\n",
       "Gr Liv Area        0.697038\n",
       "Garage Area        0.650270\n",
       "Garage Cars        0.648220\n",
       "Total Bsmt SF      0.628925\n",
       "1st Flr SF         0.618486\n",
       "Year Built         0.571849\n",
       "Year Remod/Add     0.550370\n",
       "Full Bath          0.537969\n",
       "Garage Yr Blt      0.533922\n",
       "Mas Vnr Area       0.512230\n",
       "TotRms AbvGrd      0.504014\n",
       "Fireplaces         0.471093\n",
       "BsmtFin SF 1       0.423519\n",
       "Lot Frontage       0.341842\n",
       "Open Porch SF      0.333476\n",
       "Wood Deck SF       0.326490\n",
       "Lot Area           0.296566\n",
       "Bsmt Full Bath     0.283662\n",
       "Half Bath          0.283001\n",
       "2nd Flr SF         0.248452\n",
       "Bsmt Unf SF        0.190210\n",
       "Bedroom AbvGr      0.137067\n",
       "Screen Porch       0.134581\n",
       "3Ssn Porch         0.048732\n",
       "Mo Sold            0.032735\n",
       "Pool Area          0.023106\n",
       "BsmtFin SF 2       0.016255\n",
       "Misc Val          -0.007375\n",
       "Yr Sold           -0.015203\n",
       "Low Qual Fin SF   -0.041594\n",
       "Bsmt Half Bath    -0.045328\n",
       "Id                -0.051398\n",
       "MS SubClass       -0.087335\n",
       "Overall Cond      -0.097019\n",
       "Kitchen AbvGr     -0.125444\n",
       "Enclosed Porch    -0.135656\n",
       "PID               -0.255052\n",
       "Name: SalePrice, dtype: float64"
      ]
     },
     "execution_count": 4,
     "metadata": {},
     "output_type": "execute_result"
    }
   ],
   "source": [
    "correl = df.corr()\n",
    "correl['SalePrice'].sort_values(ascending=False)"
   ]
  },
  {
   "cell_type": "code",
   "execution_count": 6,
   "metadata": {},
   "outputs": [],
   "source": [
    "df['Total SF'] = df['1st Flr SF'] + df['BsmtFin SF 1'] + df['2nd Flr SF'] + df['Gr Liv Area']"
   ]
  },
  {
   "cell_type": "code",
   "execution_count": null,
   "metadata": {},
   "outputs": [],
   "source": []
  },
  {
   "cell_type": "code",
   "execution_count": 7,
   "metadata": {},
   "outputs": [],
   "source": [
    "finalpoke = ['SalePrice', 'Overall Qual', 'Garage Area', 'Total SF', 'Year Built', 'Year Remod/Add', 'Full Bath', 'TotRms AbvGrd', 'Fireplaces']"
   ]
  },
  {
   "cell_type": "code",
   "execution_count": 8,
   "metadata": {},
   "outputs": [],
   "source": [
    "finalize = df[finalpoke]"
   ]
  },
  {
   "cell_type": "code",
   "execution_count": 9,
   "metadata": {},
   "outputs": [
    {
     "name": "stdout",
     "output_type": "stream",
     "text": [
      "<class 'pandas.core.frame.DataFrame'>\n",
      "RangeIndex: 2051 entries, 0 to 2050\n",
      "Data columns (total 9 columns):\n",
      " #   Column          Non-Null Count  Dtype  \n",
      "---  ------          --------------  -----  \n",
      " 0   SalePrice       2051 non-null   int64  \n",
      " 1   Overall Qual    2051 non-null   int64  \n",
      " 2   Garage Area     2050 non-null   float64\n",
      " 3   Total SF        2050 non-null   float64\n",
      " 4   Year Built      2051 non-null   int64  \n",
      " 5   Year Remod/Add  2051 non-null   int64  \n",
      " 6   Full Bath       2051 non-null   int64  \n",
      " 7   TotRms AbvGrd   2051 non-null   int64  \n",
      " 8   Fireplaces      2051 non-null   int64  \n",
      "dtypes: float64(2), int64(7)\n",
      "memory usage: 144.3 KB\n"
     ]
    }
   ],
   "source": [
    "finalize.info()"
   ]
  },
  {
   "cell_type": "code",
   "execution_count": 10,
   "metadata": {},
   "outputs": [
    {
     "data": {
      "text/plain": [
       "SalePrice         0\n",
       "Overall Qual      0\n",
       "Garage Area       1\n",
       "Total SF          1\n",
       "Year Built        0\n",
       "Year Remod/Add    0\n",
       "Full Bath         0\n",
       "TotRms AbvGrd     0\n",
       "Fireplaces        0\n",
       "dtype: int64"
      ]
     },
     "execution_count": 10,
     "metadata": {},
     "output_type": "execute_result"
    }
   ],
   "source": [
    "finalize.isnull().sum()"
   ]
  },
  {
   "cell_type": "code",
   "execution_count": 13,
   "metadata": {},
   "outputs": [],
   "source": [
    "finalize = finalize.apply(lambda x: x.fillna(x.mean()),axis=0)"
   ]
  },
  {
   "cell_type": "code",
   "execution_count": 14,
   "metadata": {},
   "outputs": [
    {
     "data": {
      "text/plain": [
       "SalePrice         0\n",
       "Overall Qual      0\n",
       "Garage Area       0\n",
       "Total SF          0\n",
       "Year Built        0\n",
       "Year Remod/Add    0\n",
       "Full Bath         0\n",
       "TotRms AbvGrd     0\n",
       "Fireplaces        0\n",
       "dtype: int64"
      ]
     },
     "execution_count": 14,
     "metadata": {},
     "output_type": "execute_result"
    }
   ],
   "source": [
    "finalize.isnull().sum()"
   ]
  },
  {
   "cell_type": "code",
   "execution_count": 15,
   "metadata": {},
   "outputs": [],
   "source": [
    "target = finalize['SalePrice']"
   ]
  },
  {
   "cell_type": "code",
   "execution_count": 19,
   "metadata": {},
   "outputs": [
    {
     "data": {
      "text/html": [
       "<div>\n",
       "<style scoped>\n",
       "    .dataframe tbody tr th:only-of-type {\n",
       "        vertical-align: middle;\n",
       "    }\n",
       "\n",
       "    .dataframe tbody tr th {\n",
       "        vertical-align: top;\n",
       "    }\n",
       "\n",
       "    .dataframe thead th {\n",
       "        text-align: right;\n",
       "    }\n",
       "</style>\n",
       "<table border=\"1\" class=\"dataframe\">\n",
       "  <thead>\n",
       "    <tr style=\"text-align: right;\">\n",
       "      <th></th>\n",
       "      <th>SalePrice</th>\n",
       "      <th>Overall Qual</th>\n",
       "      <th>Garage Area</th>\n",
       "      <th>Total SF</th>\n",
       "      <th>Year Built</th>\n",
       "      <th>Year Remod/Add</th>\n",
       "      <th>Full Bath</th>\n",
       "      <th>TotRms AbvGrd</th>\n",
       "      <th>Fireplaces</th>\n",
       "    </tr>\n",
       "  </thead>\n",
       "  <tbody>\n",
       "    <tr>\n",
       "      <th>1671</th>\n",
       "      <td>611657</td>\n",
       "      <td>9</td>\n",
       "      <td>820.0</td>\n",
       "      <td>6916.0</td>\n",
       "      <td>2009</td>\n",
       "      <td>2010</td>\n",
       "      <td>2</td>\n",
       "      <td>11</td>\n",
       "      <td>2</td>\n",
       "    </tr>\n",
       "    <tr>\n",
       "      <th>1692</th>\n",
       "      <td>584500</td>\n",
       "      <td>9</td>\n",
       "      <td>959.0</td>\n",
       "      <td>7292.0</td>\n",
       "      <td>1993</td>\n",
       "      <td>1994</td>\n",
       "      <td>3</td>\n",
       "      <td>11</td>\n",
       "      <td>1</td>\n",
       "    </tr>\n",
       "    <tr>\n",
       "      <th>1796</th>\n",
       "      <td>582933</td>\n",
       "      <td>9</td>\n",
       "      <td>1020.0</td>\n",
       "      <td>5644.0</td>\n",
       "      <td>2008</td>\n",
       "      <td>2009</td>\n",
       "      <td>3</td>\n",
       "      <td>12</td>\n",
       "      <td>1</td>\n",
       "    </tr>\n",
       "    <tr>\n",
       "      <th>1964</th>\n",
       "      <td>591587</td>\n",
       "      <td>9</td>\n",
       "      <td>1110.0</td>\n",
       "      <td>5777.0</td>\n",
       "      <td>2006</td>\n",
       "      <td>2007</td>\n",
       "      <td>2</td>\n",
       "      <td>8</td>\n",
       "      <td>2</td>\n",
       "    </tr>\n",
       "  </tbody>\n",
       "</table>\n",
       "</div>"
      ],
      "text/plain": [
       "      SalePrice  Overall Qual  Garage Area  Total SF  Year Built  \\\n",
       "1671     611657             9        820.0    6916.0        2009   \n",
       "1692     584500             9        959.0    7292.0        1993   \n",
       "1796     582933             9       1020.0    5644.0        2008   \n",
       "1964     591587             9       1110.0    5777.0        2006   \n",
       "\n",
       "      Year Remod/Add  Full Bath  TotRms AbvGrd  Fireplaces  \n",
       "1671            2010          2             11           2  \n",
       "1692            1994          3             11           1  \n",
       "1796            2009          3             12           1  \n",
       "1964            2007          2              8           2  "
      ]
     },
     "execution_count": 19,
     "metadata": {},
     "output_type": "execute_result"
    }
   ],
   "source": [
    "finalize.loc[(finalize['SalePrice'] > 580000)]"
   ]
  },
  {
   "cell_type": "code",
   "execution_count": 20,
   "metadata": {},
   "outputs": [
    {
     "data": {
      "text/html": [
       "<div>\n",
       "<style scoped>\n",
       "    .dataframe tbody tr th:only-of-type {\n",
       "        vertical-align: middle;\n",
       "    }\n",
       "\n",
       "    .dataframe tbody tr th {\n",
       "        vertical-align: top;\n",
       "    }\n",
       "\n",
       "    .dataframe thead th {\n",
       "        text-align: right;\n",
       "    }\n",
       "</style>\n",
       "<table border=\"1\" class=\"dataframe\">\n",
       "  <thead>\n",
       "    <tr style=\"text-align: right;\">\n",
       "      <th></th>\n",
       "      <th>SalePrice</th>\n",
       "      <th>Overall Qual</th>\n",
       "      <th>Garage Area</th>\n",
       "      <th>Total SF</th>\n",
       "      <th>Year Built</th>\n",
       "      <th>Year Remod/Add</th>\n",
       "      <th>Full Bath</th>\n",
       "      <th>TotRms AbvGrd</th>\n",
       "      <th>Fireplaces</th>\n",
       "    </tr>\n",
       "  </thead>\n",
       "  <tbody>\n",
       "    <tr>\n",
       "      <th>41</th>\n",
       "      <td>465000</td>\n",
       "      <td>10</td>\n",
       "      <td>850.0</td>\n",
       "      <td>5538.0</td>\n",
       "      <td>2006</td>\n",
       "      <td>2006</td>\n",
       "      <td>2</td>\n",
       "      <td>7</td>\n",
       "      <td>1</td>\n",
       "    </tr>\n",
       "    <tr>\n",
       "      <th>138</th>\n",
       "      <td>545224</td>\n",
       "      <td>10</td>\n",
       "      <td>758.0</td>\n",
       "      <td>6780.0</td>\n",
       "      <td>2006</td>\n",
       "      <td>2006</td>\n",
       "      <td>3</td>\n",
       "      <td>10</td>\n",
       "      <td>1</td>\n",
       "    </tr>\n",
       "    <tr>\n",
       "      <th>199</th>\n",
       "      <td>386250</td>\n",
       "      <td>10</td>\n",
       "      <td>968.0</td>\n",
       "      <td>4840.0</td>\n",
       "      <td>2003</td>\n",
       "      <td>2003</td>\n",
       "      <td>2</td>\n",
       "      <td>8</td>\n",
       "      <td>1</td>\n",
       "    </tr>\n",
       "    <tr>\n",
       "      <th>201</th>\n",
       "      <td>310000</td>\n",
       "      <td>10</td>\n",
       "      <td>812.0</td>\n",
       "      <td>4779.0</td>\n",
       "      <td>2008</td>\n",
       "      <td>2008</td>\n",
       "      <td>2</td>\n",
       "      <td>10</td>\n",
       "      <td>1</td>\n",
       "    </tr>\n",
       "    <tr>\n",
       "      <th>332</th>\n",
       "      <td>460000</td>\n",
       "      <td>10</td>\n",
       "      <td>1150.0</td>\n",
       "      <td>6662.0</td>\n",
       "      <td>2005</td>\n",
       "      <td>2006</td>\n",
       "      <td>2</td>\n",
       "      <td>10</td>\n",
       "      <td>1</td>\n",
       "    </tr>\n",
       "    <tr>\n",
       "      <th>517</th>\n",
       "      <td>392000</td>\n",
       "      <td>10</td>\n",
       "      <td>932.0</td>\n",
       "      <td>3648.0</td>\n",
       "      <td>2006</td>\n",
       "      <td>2007</td>\n",
       "      <td>2</td>\n",
       "      <td>8</td>\n",
       "      <td>1</td>\n",
       "    </tr>\n",
       "    <tr>\n",
       "      <th>519</th>\n",
       "      <td>345000</td>\n",
       "      <td>10</td>\n",
       "      <td>846.0</td>\n",
       "      <td>4914.0</td>\n",
       "      <td>1998</td>\n",
       "      <td>1999</td>\n",
       "      <td>2</td>\n",
       "      <td>7</td>\n",
       "      <td>1</td>\n",
       "    </tr>\n",
       "    <tr>\n",
       "      <th>529</th>\n",
       "      <td>451950</td>\n",
       "      <td>10</td>\n",
       "      <td>842.0</td>\n",
       "      <td>5930.0</td>\n",
       "      <td>2008</td>\n",
       "      <td>2008</td>\n",
       "      <td>2</td>\n",
       "      <td>10</td>\n",
       "      <td>1</td>\n",
       "    </tr>\n",
       "    <tr>\n",
       "      <th>622</th>\n",
       "      <td>337500</td>\n",
       "      <td>10</td>\n",
       "      <td>786.0</td>\n",
       "      <td>4608.0</td>\n",
       "      <td>2006</td>\n",
       "      <td>2007</td>\n",
       "      <td>2</td>\n",
       "      <td>7</td>\n",
       "      <td>1</td>\n",
       "    </tr>\n",
       "    <tr>\n",
       "      <th>623</th>\n",
       "      <td>552000</td>\n",
       "      <td>10</td>\n",
       "      <td>949.0</td>\n",
       "      <td>7130.0</td>\n",
       "      <td>2004</td>\n",
       "      <td>2005</td>\n",
       "      <td>2</td>\n",
       "      <td>8</td>\n",
       "      <td>1</td>\n",
       "    </tr>\n",
       "    <tr>\n",
       "      <th>682</th>\n",
       "      <td>385000</td>\n",
       "      <td>10</td>\n",
       "      <td>1220.0</td>\n",
       "      <td>5804.0</td>\n",
       "      <td>2007</td>\n",
       "      <td>2008</td>\n",
       "      <td>2</td>\n",
       "      <td>7</td>\n",
       "      <td>1</td>\n",
       "    </tr>\n",
       "    <tr>\n",
       "      <th>800</th>\n",
       "      <td>500067</td>\n",
       "      <td>10</td>\n",
       "      <td>1174.0</td>\n",
       "      <td>6264.0</td>\n",
       "      <td>2007</td>\n",
       "      <td>2007</td>\n",
       "      <td>2</td>\n",
       "      <td>7</td>\n",
       "      <td>1</td>\n",
       "    </tr>\n",
       "    <tr>\n",
       "      <th>934</th>\n",
       "      <td>455000</td>\n",
       "      <td>10</td>\n",
       "      <td>724.0</td>\n",
       "      <td>5236.0</td>\n",
       "      <td>2006</td>\n",
       "      <td>2007</td>\n",
       "      <td>2</td>\n",
       "      <td>8</td>\n",
       "      <td>1</td>\n",
       "    </tr>\n",
       "    <tr>\n",
       "      <th>960</th>\n",
       "      <td>160000</td>\n",
       "      <td>10</td>\n",
       "      <td>1418.0</td>\n",
       "      <td>16928.0</td>\n",
       "      <td>2008</td>\n",
       "      <td>2008</td>\n",
       "      <td>2</td>\n",
       "      <td>12</td>\n",
       "      <td>3</td>\n",
       "    </tr>\n",
       "    <tr>\n",
       "      <th>986</th>\n",
       "      <td>450000</td>\n",
       "      <td>10</td>\n",
       "      <td>878.0</td>\n",
       "      <td>5522.0</td>\n",
       "      <td>2005</td>\n",
       "      <td>2006</td>\n",
       "      <td>2</td>\n",
       "      <td>7</td>\n",
       "      <td>2</td>\n",
       "    </tr>\n",
       "    <tr>\n",
       "      <th>1035</th>\n",
       "      <td>475000</td>\n",
       "      <td>10</td>\n",
       "      <td>840.0</td>\n",
       "      <td>6644.0</td>\n",
       "      <td>1892</td>\n",
       "      <td>1993</td>\n",
       "      <td>2</td>\n",
       "      <td>12</td>\n",
       "      <td>2</td>\n",
       "    </tr>\n",
       "    <tr>\n",
       "      <th>1081</th>\n",
       "      <td>426000</td>\n",
       "      <td>10</td>\n",
       "      <td>846.0</td>\n",
       "      <td>5944.0</td>\n",
       "      <td>2007</td>\n",
       "      <td>2008</td>\n",
       "      <td>2</td>\n",
       "      <td>9</td>\n",
       "      <td>1</td>\n",
       "    </tr>\n",
       "    <tr>\n",
       "      <th>1117</th>\n",
       "      <td>466500</td>\n",
       "      <td>10</td>\n",
       "      <td>804.0</td>\n",
       "      <td>6548.0</td>\n",
       "      <td>2001</td>\n",
       "      <td>2002</td>\n",
       "      <td>2</td>\n",
       "      <td>8</td>\n",
       "      <td>2</td>\n",
       "    </tr>\n",
       "    <tr>\n",
       "      <th>1141</th>\n",
       "      <td>325000</td>\n",
       "      <td>10</td>\n",
       "      <td>880.0</td>\n",
       "      <td>5550.0</td>\n",
       "      <td>1893</td>\n",
       "      <td>2000</td>\n",
       "      <td>3</td>\n",
       "      <td>9</td>\n",
       "      <td>1</td>\n",
       "    </tr>\n",
       "    <tr>\n",
       "      <th>1164</th>\n",
       "      <td>555000</td>\n",
       "      <td>10</td>\n",
       "      <td>672.0</td>\n",
       "      <td>6571.0</td>\n",
       "      <td>2008</td>\n",
       "      <td>2008</td>\n",
       "      <td>2</td>\n",
       "      <td>10</td>\n",
       "      <td>2</td>\n",
       "    </tr>\n",
       "    <tr>\n",
       "      <th>1170</th>\n",
       "      <td>438780</td>\n",
       "      <td>10</td>\n",
       "      <td>641.0</td>\n",
       "      <td>5890.0</td>\n",
       "      <td>2006</td>\n",
       "      <td>2006</td>\n",
       "      <td>3</td>\n",
       "      <td>10</td>\n",
       "      <td>1</td>\n",
       "    </tr>\n",
       "    <tr>\n",
       "      <th>1592</th>\n",
       "      <td>535000</td>\n",
       "      <td>10</td>\n",
       "      <td>736.0</td>\n",
       "      <td>6602.0</td>\n",
       "      <td>2006</td>\n",
       "      <td>2006</td>\n",
       "      <td>2</td>\n",
       "      <td>11</td>\n",
       "      <td>1</td>\n",
       "    </tr>\n",
       "    <tr>\n",
       "      <th>1885</th>\n",
       "      <td>183850</td>\n",
       "      <td>10</td>\n",
       "      <td>1154.0</td>\n",
       "      <td>14200.0</td>\n",
       "      <td>2008</td>\n",
       "      <td>2009</td>\n",
       "      <td>2</td>\n",
       "      <td>15</td>\n",
       "      <td>2</td>\n",
       "    </tr>\n",
       "  </tbody>\n",
       "</table>\n",
       "</div>"
      ],
      "text/plain": [
       "      SalePrice  Overall Qual  Garage Area  Total SF  Year Built  \\\n",
       "41       465000            10        850.0    5538.0        2006   \n",
       "138      545224            10        758.0    6780.0        2006   \n",
       "199      386250            10        968.0    4840.0        2003   \n",
       "201      310000            10        812.0    4779.0        2008   \n",
       "332      460000            10       1150.0    6662.0        2005   \n",
       "517      392000            10        932.0    3648.0        2006   \n",
       "519      345000            10        846.0    4914.0        1998   \n",
       "529      451950            10        842.0    5930.0        2008   \n",
       "622      337500            10        786.0    4608.0        2006   \n",
       "623      552000            10        949.0    7130.0        2004   \n",
       "682      385000            10       1220.0    5804.0        2007   \n",
       "800      500067            10       1174.0    6264.0        2007   \n",
       "934      455000            10        724.0    5236.0        2006   \n",
       "960      160000            10       1418.0   16928.0        2008   \n",
       "986      450000            10        878.0    5522.0        2005   \n",
       "1035     475000            10        840.0    6644.0        1892   \n",
       "1081     426000            10        846.0    5944.0        2007   \n",
       "1117     466500            10        804.0    6548.0        2001   \n",
       "1141     325000            10        880.0    5550.0        1893   \n",
       "1164     555000            10        672.0    6571.0        2008   \n",
       "1170     438780            10        641.0    5890.0        2006   \n",
       "1592     535000            10        736.0    6602.0        2006   \n",
       "1885     183850            10       1154.0   14200.0        2008   \n",
       "\n",
       "      Year Remod/Add  Full Bath  TotRms AbvGrd  Fireplaces  \n",
       "41              2006          2              7           1  \n",
       "138             2006          3             10           1  \n",
       "199             2003          2              8           1  \n",
       "201             2008          2             10           1  \n",
       "332             2006          2             10           1  \n",
       "517             2007          2              8           1  \n",
       "519             1999          2              7           1  \n",
       "529             2008          2             10           1  \n",
       "622             2007          2              7           1  \n",
       "623             2005          2              8           1  \n",
       "682             2008          2              7           1  \n",
       "800             2007          2              7           1  \n",
       "934             2007          2              8           1  \n",
       "960             2008          2             12           3  \n",
       "986             2006          2              7           2  \n",
       "1035            1993          2             12           2  \n",
       "1081            2008          2              9           1  \n",
       "1117            2002          2              8           2  \n",
       "1141            2000          3              9           1  \n",
       "1164            2008          2             10           2  \n",
       "1170            2006          3             10           1  \n",
       "1592            2006          2             11           1  \n",
       "1885            2009          2             15           2  "
      ]
     },
     "execution_count": 20,
     "metadata": {},
     "output_type": "execute_result"
    }
   ],
   "source": [
    "finalize.loc[(finalize['Overall Qual'] > 9)]"
   ]
  },
  {
   "cell_type": "code",
   "execution_count": 21,
   "metadata": {},
   "outputs": [],
   "source": [
    "finalize.drop('SalePrice',axis=1,inplace=True)"
   ]
  },
  {
   "cell_type": "code",
   "execution_count": 22,
   "metadata": {},
   "outputs": [],
   "source": [
    "lr = LinearRegression()"
   ]
  },
  {
   "cell_type": "code",
   "execution_count": 23,
   "metadata": {},
   "outputs": [
    {
     "data": {
      "text/plain": [
       "LinearRegression()"
      ]
     },
     "execution_count": 23,
     "metadata": {},
     "output_type": "execute_result"
    }
   ],
   "source": [
    "lr.fit(finalize,target)"
   ]
  },
  {
   "cell_type": "code",
   "execution_count": 25,
   "metadata": {},
   "outputs": [],
   "source": [
    "preds = lr.predict(finalize)"
   ]
  },
  {
   "cell_type": "code",
   "execution_count": 26,
   "metadata": {},
   "outputs": [
    {
     "data": {
      "text/plain": [
       "35618.80608117907"
      ]
     },
     "execution_count": 26,
     "metadata": {},
     "output_type": "execute_result"
    }
   ],
   "source": [
    "rmse = np.sqrt(mean_squared_error(target,preds))\n",
    "rmse"
   ]
  },
  {
   "cell_type": "code",
   "execution_count": 27,
   "metadata": {},
   "outputs": [
    {
     "data": {
      "text/html": [
       "<div>\n",
       "<style scoped>\n",
       "    .dataframe tbody tr th:only-of-type {\n",
       "        vertical-align: middle;\n",
       "    }\n",
       "\n",
       "    .dataframe tbody tr th {\n",
       "        vertical-align: top;\n",
       "    }\n",
       "\n",
       "    .dataframe thead th {\n",
       "        text-align: right;\n",
       "    }\n",
       "</style>\n",
       "<table border=\"1\" class=\"dataframe\">\n",
       "  <thead>\n",
       "    <tr style=\"text-align: right;\">\n",
       "      <th></th>\n",
       "      <th>Neighborhood</th>\n",
       "    </tr>\n",
       "  </thead>\n",
       "  <tbody>\n",
       "    <tr>\n",
       "      <th>0</th>\n",
       "      <td>1</td>\n",
       "    </tr>\n",
       "  </tbody>\n",
       "</table>\n",
       "</div>"
      ],
      "text/plain": [
       "   Neighborhood\n",
       "0             1"
      ]
     },
     "execution_count": 27,
     "metadata": {},
     "output_type": "execute_result"
    }
   ],
   "source": [
    "pd.get_dummies('Neighborhood')"
   ]
  },
  {
   "cell_type": "code",
   "execution_count": 32,
   "metadata": {},
   "outputs": [],
   "source": [
    "df = pd.get_dummies(df['Neighborhood'])"
   ]
  },
  {
   "cell_type": "code",
   "execution_count": 33,
   "metadata": {},
   "outputs": [
    {
     "data": {
      "text/plain": [
       "(2051, 28)"
      ]
     },
     "execution_count": 33,
     "metadata": {},
     "output_type": "execute_result"
    }
   ],
   "source": [
    "df.shape"
   ]
  },
  {
   "cell_type": "code",
   "execution_count": 34,
   "metadata": {},
   "outputs": [
    {
     "data": {
      "text/plain": [
       "0       0\n",
       "1       0\n",
       "2       0\n",
       "3       0\n",
       "4       0\n",
       "       ..\n",
       "2046    0\n",
       "2047    0\n",
       "2048    0\n",
       "2049    0\n",
       "2050    0\n",
       "Name: Blueste, Length: 2051, dtype: uint8"
      ]
     },
     "execution_count": 34,
     "metadata": {},
     "output_type": "execute_result"
    }
   ],
   "source": [
    "df.Blueste"
   ]
  },
  {
   "cell_type": "code",
   "execution_count": null,
   "metadata": {},
   "outputs": [],
   "source": []
  }
 ],
 "metadata": {
  "kernelspec": {
   "display_name": "Python 3",
   "language": "python",
   "name": "python3"
  },
  "language_info": {
   "codemirror_mode": {
    "name": "ipython",
    "version": 3
   },
   "file_extension": ".py",
   "mimetype": "text/x-python",
   "name": "python",
   "nbconvert_exporter": "python",
   "pygments_lexer": "ipython3",
   "version": "3.8.3"
  }
 },
 "nbformat": 4,
 "nbformat_minor": 4
}
